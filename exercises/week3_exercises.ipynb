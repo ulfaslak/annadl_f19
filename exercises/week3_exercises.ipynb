{
 "cells": [
  {
   "cell_type": "markdown",
   "metadata": {},
   "source": [
    "> **DO NOT EDIT IF INSIDE annadl_f19 folder**\n"
   ]
  },
  {
   "cell_type": "markdown",
   "metadata": {},
   "source": [
    "# Keras, overfitting, regularlization\n",
    "\n",
    "- Part 3.1: Basic Keras\n",
    "- Part 3.2: Regularization and overfitting\n",
    "\n",
    "[**Feedback**]((https://ulfaslak.com/vent))"
   ]
  },
  {
   "cell_type": "code",
   "execution_count": 7,
   "metadata": {
    "ExecuteTime": {
     "end_time": "2019-09-23T19:46:42.654026Z",
     "start_time": "2019-09-23T19:46:42.649469Z"
    }
   },
   "outputs": [],
   "source": [
    "%matplotlib inline\n",
    "import matplotlib.pylab as plt\n",
    "import numpy as np\n",
    "import keras\n",
    "from keras.models import Sequential\n",
    "from keras.layers import Dense"
   ]
  },
  {
   "cell_type": "markdown",
   "metadata": {},
   "source": [
    "## Exercises"
   ]
  },
  {
   "cell_type": "markdown",
   "metadata": {},
   "source": [
    "### Part 3.1: Basic Keras"
   ]
  },
  {
   "cell_type": "markdown",
   "metadata": {},
   "source": [
    "> **Ex. 3.1.1** Let's get started with Keras by working with an actual neural network.\n",
    "1. Implement a very simple `Sequential` model using [*Getting started with the Keras Sequential model*](https://keras.io/getting-started/sequential-model-guide/) as a guide.\n",
    "2. Fit it to the [mnist](https://keras.io/datasets/#mnist-database-of-handwritten-digits) dataset of handwritten digits that I have prepared below.\n",
    "3. Compute the accuracy on the test set using the `evaluate` function.\n",
    "4. BONUS: Can you score over 90% accuracy in just five training epochs?"
   ]
  },
  {
   "cell_type": "code",
   "execution_count": 21,
   "metadata": {
    "ExecuteTime": {
     "end_time": "2019-09-23T20:14:04.673523Z",
     "start_time": "2019-09-23T20:14:04.345053Z"
    }
   },
   "outputs": [],
   "source": [
    "(x, y), _ = keras.datasets.mnist.load_data()\n",
    "\n",
    "# Reshape each image to 1dim vector. Effectively, reshape\n",
    "# `x_train` from (60000, 28, 28) to (60000, 28*28)\n",
    "x_train = x[:50000].reshape(-1, 28*28)\n",
    "x_test = x[50000:].reshape(-1, 28*28)\n",
    "\n",
    "# Convert y_train from vector of labels to one-hot encoding vector\n",
    "y = keras.utils.to_categorical(y, num_classes=10)\n",
    "y_train = y[:50000]\n",
    "y_test = y[50000:]"
   ]
  },
  {
   "cell_type": "markdown",
   "metadata": {},
   "source": [
    "> **Ex. 3.1.2** One of the coolest features we get basically for free when using Keras with the Tensorflow backend is the **Tensorboard**.\n",
    "It allows us to visualize training and test curves, our network graph, and more, in an interactive format.\n",
    "Below I have implemented a simple linear regression, adapt and launch a visualization of the training performance."
   ]
  },
  {
   "cell_type": "code",
   "execution_count": null,
   "metadata": {
    "ExecuteTime": {
     "end_time": "2019-09-23T20:02:10.684973Z",
     "start_time": "2019-09-23T20:02:08.964586Z"
    }
   },
   "outputs": [],
   "source": [
    "x = np.linspace(-1, 1, 101)\n",
    "y = 3 * x + np.random.randn(*x.shape) * 0.33\n",
    "\n",
    "model = Sequential()\n",
    "model.add(Dense(input_dim=1, output_dim=1, init='uniform', activation='linear'))\n",
    "model.compile(optimizer='sgd', loss='mse')\n",
    "model.fit(x, y, nb_epoch=200, verbose=1)"
   ]
  },
  {
   "cell_type": "markdown",
   "metadata": {},
   "source": [
    "> **Ex. 3.1.3** Solve exercises 1.2.2 and 1.2.3 from week 1, but solve them using Keras.\n",
    "> Comment on differences in speed (and outcome if you observe any).\n",
    "You can for example use Tensorboard to inspect the training performance throught the training epochs."
   ]
  },
  {
   "cell_type": "markdown",
   "metadata": {},
   "source": [
    "### Part 3.1: Overfitting and regularization"
   ]
  },
  {
   "cell_type": "markdown",
   "metadata": {},
   "source": [
    "When a model *overfits* it means that it memorizes the outcomes for each training data point rather than general patterns.\n",
    "Thus an overfitted model will score extremely well on the training data but poorly on new unseen data. \n",
    "In general, the more flexible a model is the easier it will overfit, and for this reason neural networks are notorious overfitters.\n",
    "Broadly speaking, the way to combat this is to *regularize* the network."
   ]
  },
  {
   "cell_type": "markdown",
   "metadata": {},
   "source": [
    "> **Ex. 3.2.1** To understand overfitting, we overfit some data! Let's fit a neural network to data that has no inherent patterns: *noise*."
   ]
  },
  {
   "cell_type": "code",
   "execution_count": 96,
   "metadata": {
    "ExecuteTime": {
     "end_time": "2019-09-23T20:59:04.927430Z",
     "start_time": "2019-09-23T20:59:04.739689Z"
    }
   },
   "outputs": [
    {
     "data": {
      "image/png": "[encoded data removed]",
      "text/plain": [
       "<Figure size 432x288 with 1 Axes>"
      ]
     },
     "metadata": {
      "needs_background": "light"
     },
     "output_type": "display_data"
    }
   ],
   "source": [
    "# Generate some data-points\n",
    "x = np.random.random(size=(50, 2))\n",
    "\n",
    "# And some random outcomes\n",
    "y = np.random.randint(0, 2, size=(50, ))\n",
    "\n",
    "# Plot it\n",
    "plt.scatter(x[:, 0], x[:, 1], c=y)\n",
    "plt.show()"
   ]
  },
  {
   "cell_type": "markdown",
   "metadata": {
    "ExecuteTime": {
     "end_time": "2019-09-23T20:41:33.645158Z",
     "start_time": "2019-09-23T20:41:33.333649Z"
    }
   },
   "source": [
    "> Now, create a network that attains an accuracy score over 80% in predicting which points are class 0 and which are class 1.\n",
    ">\n",
    "> *Hint*: The bigger the network, the bigger the overfitting."
   ]
  },
  {
   "cell_type": "markdown",
   "metadata": {
    "ExecuteTime": {
     "end_time": "2019-09-23T20:51:40.569270Z",
     "start_time": "2019-09-23T20:51:40.535007Z"
    }
   },
   "source": [
    "> **Ex 3.2.2** Norm regularization:\n",
    "> 1. Apply L2 regularization to your network so that it, across the same number of batches, cannot overfit.\n",
    "> 2. What does L2 regularization do? Compare the absolute size of weights in the unregularized and regularized model.\n",
    ">\n",
    "> *Hint:* `model.weights` will give you a list of weights and bias arrays for each layer. They are in a Tensorflow format but you can call `.numpy()` on them to get them out as numpy arrays."
   ]
  },
  {
   "cell_type": "markdown",
   "metadata": {},
   "source": [
    "> **Ex 3.2.3** Early stopping: Often we like to monitor the model's performance on a test set also while we train the model.\n",
    "This allows us to do something called \"early stopping\" which is a way of regularizing by stopping the training process before the network overfits (we know it overfits when the performance on the training set starts getting much better than on the test set).\n",
    "Implement early stopping when training on the random data above. What accuracy do you get?\n",
    ">\n",
    "> *Hint*: There's an example [here](https://keras.io/getting-started/faq/#how-can-i-interrupt-training-when-the-validation-loss-isnt-decreasing-anymore)."
   ]
  },
  {
   "cell_type": "markdown",
   "metadata": {},
   "source": [
    "> **Ex 3.2.4** Dropout: Another clever way to regularize a network, is to randomly \"drop out\" some fraction of neurons during each training batch, so the network cannot store memory in specific neurons. The method is called Dropout. Go ahead and take your overfitting model and apply dropout in one or more of the layers and comment on the performance.\n",
    ">\n",
    "> *Hint*: Check out the reference [here](https://keras.io/layers/core/#dropout)."
   ]
  }
 ],
 "metadata": {
  "kernelspec": {
   "display_name": "Python 3",
   "language": "python",
   "name": "python3"
  },
  "language_info": {
   "codemirror_mode": {
    "name": "ipython",
    "version": 3
   },
   "file_extension": ".py",
   "mimetype": "text/x-python",
   "name": "python",
   "nbconvert_exporter": "python",
   "pygments_lexer": "ipython3",
   "version": "3.7.3"
  },
  "toc": {
   "base_numbering": 1,
   "nav_menu": {},
   "number_sections": false,
   "sideBar": true,
   "skip_h1_title": false,
   "title_cell": "Table of Contents",
   "title_sidebar": "Contents",
   "toc_cell": false,
   "toc_position": {},
   "toc_section_display": true,
   "toc_window_display": true
  },
  "varInspector": {
   "cols": {
    "lenName": 16,
    "lenType": 16,
    "lenVar": 40
   },
   "kernels_config": {
    "python": {
     "delete_cmd_postfix": "",
     "delete_cmd_prefix": "del ",
     "library": "var_list.py",
     "varRefreshCmd": "print(var_dic_list())"
    },
    "r": {
     "delete_cmd_postfix": ") ",
     "delete_cmd_prefix": "rm(",
     "library": "var_list.r",
     "varRefreshCmd": "cat(var_dic_list()) "
    }
   },
   "types_to_exclude": [
    "module",
    "function",
    "builtin_function_or_method",
    "instance",
    "_Feature"
   ],
   "window_display": false
  }
 },
 "nbformat": 4,
 "nbformat_minor": 2
}
